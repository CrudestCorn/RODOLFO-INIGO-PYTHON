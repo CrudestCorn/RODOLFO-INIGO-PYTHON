{
  "nbformat": 4,
  "nbformat_minor": 0,
  "metadata": {
    "colab": {
      "provenance": [],
      "toc_visible": true
    },
    "kernelspec": {
      "name": "python3",
      "display_name": "Python 3"
    },
    "language_info": {
      "name": "python"
    }
  },
  "cells": [
    {
      "cell_type": "markdown",
      "source": [
        "Ejercicio práctico 1: Crea una función que reciba una lista de\n",
        "números y retorne el mayor de ellos."
      ],
      "metadata": {
        "id": "5pgeQh7w4F2B"
      }
    },
    {
      "cell_type": "code",
      "execution_count": 11,
      "metadata": {
        "colab": {
          "base_uri": "https://localhost:8080/"
        },
        "id": "-KrD-wWK1Zbm",
        "outputId": "3d191dc2-c242-4c60-e823-a2532342b0f9"
      },
      "outputs": [
        {
          "output_type": "stream",
          "name": "stdout",
          "text": [
            "8\n"
          ]
        }
      ],
      "source": [
        "def numero_mayor(lista):\n",
        "  return max(lista)\n",
        "\n",
        "numeros = [8, 4, 3, 2, 1]\n",
        "print(numero_mayor(numeros)) # Esto imprimirá \"8\" en la pantalla."
      ]
    },
    {
      "cell_type": "markdown",
      "source": [
        "Ejercicio práctico 2: Crea una función que convierta grados\n",
        "Celsius a Fahrenheit."
      ],
      "metadata": {
        "id": "-xldYB0P5Il7"
      }
    },
    {
      "cell_type": "code",
      "source": [
        "def celsius_a_fahrenheit(celsius):\n",
        "  return (celsius * 9/5) + 32\n",
        "grados_c = 25\n",
        "print(celsius_a_fahrenheit(grados_c)) # Esto imprimirá \"77.0\" en la pantalla"
      ],
      "metadata": {
        "colab": {
          "base_uri": "https://localhost:8080/"
        },
        "id": "sqFq6z1F5KVT",
        "outputId": "3657f2d7-cd74-49d4-c432-17eaae772b76"
      },
      "execution_count": 13,
      "outputs": [
        {
          "output_type": "stream",
          "name": "stdout",
          "text": [
            "77.0\n"
          ]
        }
      ]
    },
    {
      "cell_type": "markdown",
      "source": [
        "Ejercicio práctico 3: Usa una función lambda para calcular el\n",
        "área de un rectángulo."
      ],
      "metadata": {
        "id": "UiSoxNw55X89"
      }
    },
    {
      "cell_type": "code",
      "source": [
        "area_rectangulo = lambda largo, ancho: largo * ancho\n",
        "l = 5\n",
        "a = 3\n",
        "print(area_rectangulo(l, a)) # Esto imprimirá \"15\" en la pantalla."
      ],
      "metadata": {
        "colab": {
          "base_uri": "https://localhost:8080/"
        },
        "id": "cRBK1TA75aML",
        "outputId": "130280ea-94df-47b6-9187-4f5db5c254f0"
      },
      "execution_count": 14,
      "outputs": [
        {
          "output_type": "stream",
          "name": "stdout",
          "text": [
            "15\n"
          ]
        }
      ]
    }
  ]
}