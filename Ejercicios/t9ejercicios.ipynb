{
  "nbformat": 4,
  "nbformat_minor": 0,
  "metadata": {
    "colab": {
      "provenance": []
    },
    "kernelspec": {
      "name": "python3",
      "display_name": "Python 3"
    },
    "language_info": {
      "name": "python"
    }
  },
  "cells": [
    {
      "cell_type": "markdown",
      "source": [
        "Ejercicio práctico 1: Crea una clase Persona con atributos\n",
        "para nombre y edad, y un método para presentarse."
      ],
      "metadata": {
        "id": "z9AKs0eigNqC"
      }
    },
    {
      "cell_type": "code",
      "source": [
        "class Persona:\n",
        "  def __init__(self, nombre, edad):\n",
        "    self.nombre = nombre\n",
        "    self.edad = edad\n",
        "\n",
        "  def presentarse(self):\n",
        "    return f\"Hola, mi nombre es {self.nombre} y tengo {self.edad} años.\"\n",
        "\n",
        "juan = Persona(\"Juan\", 25)\n",
        "print(juan.presentarse())"
      ],
      "metadata": {
        "colab": {
          "base_uri": "https://localhost:8080/"
        },
        "id": "xFit1e92h_4X",
        "outputId": "f86f074b-261c-433f-c477-47961595782f"
      },
      "execution_count": 8,
      "outputs": [
        {
          "output_type": "stream",
          "name": "stdout",
          "text": [
            "Hola, mi nombre es Juan y tengo 25 años.\n"
          ]
        }
      ]
    },
    {
      "cell_type": "markdown",
      "source": [
        "Ejercicio práctico 2: Extiende la clase Persona con una\n",
        "subclase Estudiante que añade el atributo carrera ."
      ],
      "metadata": {
        "id": "u1f6nLwWibRu"
      }
    },
    {
      "cell_type": "code",
      "source": [
        "class Estudiante(Persona):\n",
        "  def __init__(self, nombre, edad, carrera):\n",
        "    super().__init__(nombre, edad)\n",
        "    self.carrera = carrera\n",
        "  def presentarse(self):\n",
        "    return f\"Hola, mi nombre es {self.nombre}, tengo {self.edad} años y estudio {self.carrera}.\"\n",
        "ana = Estudiante(\"Ana\", 20, \"Ingeniería\")\n",
        "print(ana.presentarse())"
      ],
      "metadata": {
        "colab": {
          "base_uri": "https://localhost:8080/"
        },
        "id": "bSlM6y3KicCK",
        "outputId": "63a8c714-feed-4b51-db07-eefde17b28f7"
      },
      "execution_count": 9,
      "outputs": [
        {
          "output_type": "stream",
          "name": "stdout",
          "text": [
            "Hola, mi nombre es Ana, tengo 20 años y estudio Ingeniería.\n"
          ]
        }
      ]
    }
  ]
}