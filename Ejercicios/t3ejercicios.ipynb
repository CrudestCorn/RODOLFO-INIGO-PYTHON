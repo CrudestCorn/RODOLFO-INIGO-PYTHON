{
  "nbformat": 4,
  "nbformat_minor": 0,
  "metadata": {
    "colab": {
      "provenance": [],
      "toc_visible": true
    },
    "kernelspec": {
      "name": "python3",
      "display_name": "Python 3"
    },
    "language_info": {
      "name": "python"
    }
  },
  "cells": [
    {
      "cell_type": "markdown",
      "source": [
        "Ejercicio práctico 1: Programa que pide al usuario ingresar un\n",
        "número y muestra si es par o impar."
      ],
      "metadata": {
        "id": "5pgeQh7w4F2B"
      }
    },
    {
      "cell_type": "code",
      "execution_count": 8,
      "metadata": {
        "colab": {
          "base_uri": "https://localhost:8080/"
        },
        "id": "-KrD-wWK1Zbm",
        "outputId": "dafc7d18-508d-4cc5-cc17-bad0d712ec34"
      },
      "outputs": [
        {
          "output_type": "stream",
          "name": "stdout",
          "text": [
            "Introduce un número: 5\n",
            "El número es impar.\n"
          ]
        }
      ],
      "source": [
        "numero = int(input(\"Introduce un número: \"))\n",
        "if numero % 2 == 0:\n",
        "  print(\"El número es par.\")\n",
        "else:\n",
        "  print(\"El número es impar.\")"
      ]
    },
    {
      "cell_type": "markdown",
      "source": [
        "Ejercicio práctico 2: Programa que imprime los primeros 10\n",
        "números de la serie Fibonacci."
      ],
      "metadata": {
        "id": "6xki_0QT4J8j"
      }
    },
    {
      "cell_type": "code",
      "source": [
        "a, b = 0, 1\n",
        "for i in range(10):\n",
        "  print(a)\n",
        "  a, b = b, a+b"
      ],
      "metadata": {
        "colab": {
          "base_uri": "https://localhost:8080/"
        },
        "id": "T80cr53432-Q",
        "outputId": "3f0eec5e-66c7-4d6d-c292-0c26891099c5"
      },
      "execution_count": 9,
      "outputs": [
        {
          "output_type": "stream",
          "name": "stdout",
          "text": [
            "0\n",
            "1\n",
            "1\n",
            "2\n",
            "3\n",
            "5\n",
            "8\n",
            "13\n",
            "21\n",
            "34\n"
          ]
        }
      ]
    },
    {
      "cell_type": "markdown",
      "source": [
        "Ejercicio práctico 3: Programa que pide al usuario un número\n",
        "n y muestra la suma de todos los números del 1 al n ."
      ],
      "metadata": {
        "id": "CFBZy1d74MiG"
      }
    },
    {
      "cell_type": "code",
      "source": [
        "n = int(input(\"Introduce un número: \"))\n",
        "suma = 0\n",
        "for i in range(1, n+1):\n",
        "  suma += i\n",
        "\n",
        "print(f\"La suma de los números del 1 al {n} es: {suma}\")"
      ],
      "metadata": {
        "colab": {
          "base_uri": "https://localhost:8080/"
        },
        "id": "gn31KxBE4PD0",
        "outputId": "047b4622-774c-403b-eb8d-c58db3d61d8c"
      },
      "execution_count": 10,
      "outputs": [
        {
          "output_type": "stream",
          "name": "stdout",
          "text": [
            "Introduce un número: 66\n",
            "La suma de los números del 1 al 66 es: 2211\n"
          ]
        }
      ]
    }
  ]
}