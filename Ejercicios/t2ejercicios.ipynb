{
  "nbformat": 4,
  "nbformat_minor": 0,
  "metadata": {
    "colab": {
      "provenance": [],
      "toc_visible": true
    },
    "kernelspec": {
      "name": "python3",
      "display_name": "Python 3"
    },
    "language_info": {
      "name": "python"
    }
  },
  "cells": [
    {
      "cell_type": "code",
      "execution_count": 4,
      "metadata": {
        "colab": {
          "base_uri": "https://localhost:8080/"
        },
        "id": "-KrD-wWK1Zbm",
        "outputId": "4c56195a-307c-4b57-83af-06da0453d938"
      },
      "outputs": [
        {
          "output_type": "stream",
          "name": "stdout",
          "text": [
            "Introduce tu nombre: Rudy\n",
            "Introduce tu edad: 31\n",
            "Introduce tu ciudad de origen: Cancun\n",
            "¡Hola Rudy! Veo que tienes 31 años y eres de Cancun.\n"
          ]
        }
      ],
      "source": [
        "nombre = input(\"Introduce tu nombre: \")\n",
        "edad = input(\"Introduce tu edad: \")\n",
        "ciudad = input(\"Introduce tu ciudad de origen: \")\n",
        "\n",
        "print(f\"¡Hola {nombre}! Veo que tienes {edad} años y eres de {ciudad}.\")"
      ]
    },
    {
      "cell_type": "code",
      "source": [
        "num1 = float(input(\"Introduce el primer número: \"))\n",
        "num2 = float(input(\"Introduce el segundo número: \"))\n",
        "\n",
        "print(f\"Suma: {num1 + num2}\")\n",
        "print(f\"Resta: {num1 - num2}\")\n",
        "print(f\"Multiplicación: {num1 * num2}\")\n",
        "print(f\"División: {num1 / num2}\")"
      ],
      "metadata": {
        "colab": {
          "base_uri": "https://localhost:8080/"
        },
        "id": "aLJ1uxzL3HZo",
        "outputId": "3efd12f9-0744-4c5e-97c0-f0fac57b9fef"
      },
      "execution_count": 5,
      "outputs": [
        {
          "output_type": "stream",
          "name": "stdout",
          "text": [
            "Introduce el primer número: 31\n",
            "Introduce el segundo número: 22\n",
            "Suma: 53.0\n",
            "Resta: 9.0\n",
            "Multiplicación: 682.0\n",
            "División: 1.4090909090909092\n"
          ]
        }
      ]
    }
  ]
}