{
  "nbformat": 4,
  "nbformat_minor": 0,
  "metadata": {
    "colab": {
      "provenance": [],
      "toc_visible": true
    },
    "kernelspec": {
      "name": "python3",
      "display_name": "Python 3"
    },
    "language_info": {
      "name": "python"
    }
  },
  "cells": [
    {
      "cell_type": "markdown",
      "source": [
        "Ejercicio práctico 1: Crea una lista con tus películas\n",
        "favoritas y muestra la tercera película en la lista."
      ],
      "metadata": {
        "id": "5pgeQh7w4F2B"
      }
    },
    {
      "cell_type": "code",
      "execution_count": 17,
      "metadata": {
        "colab": {
          "base_uri": "https://localhost:8080/"
        },
        "id": "-KrD-wWK1Zbm",
        "outputId": "75ef710d-5033-48b8-ee27-d8d8cd5fc941"
      },
      "outputs": [
        {
          "output_type": "stream",
          "name": "stdout",
          "text": [
            "Star Wars ep3\n"
          ]
        }
      ],
      "source": [
        "peliculas = [\"Star Wars ep1\", \"Star Wars ep2\", \"Star Wars ep3\"]\n",
        "print(peliculas[2]) # Imprime \"Star Wars ep3\""
      ]
    },
    {
      "cell_type": "markdown",
      "source": [
        "Ejercicio práctico 2: Dado un diccionario que guarda las\n",
        "calificaciones de un estudiante, calcula el promedio."
      ],
      "metadata": {
        "id": "-xldYB0P5Il7"
      }
    },
    {
      "cell_type": "code",
      "source": [
        "calificaciones = {\n",
        "    \"matemáticas\": 90,\n",
        "    \"historia\": 85,\n",
        "    \"física\": 78,\n",
        "    \"química\": 93\n",
        "}\n",
        "promedio = sum(calificaciones.values()) / len(calificaciones)\n",
        "print(f\"El promedio es: {promedio}\") # Esto imprimirá 86.5"
      ],
      "metadata": {
        "colab": {
          "base_uri": "https://localhost:8080/"
        },
        "id": "sqFq6z1F5KVT",
        "outputId": "866b2e4b-e687-4475-fca9-c682eafe191f"
      },
      "execution_count": 18,
      "outputs": [
        {
          "output_type": "stream",
          "name": "stdout",
          "text": [
            "El promedio es: 86.5\n"
          ]
        }
      ]
    },
    {
      "cell_type": "markdown",
      "source": [
        "Ejercicio práctico 3: Crea un conjunto con tus hobbies y\n",
        "agrega uno nuevo."
      ],
      "metadata": {
        "id": "UiSoxNw55X89"
      }
    },
    {
      "cell_type": "code",
      "source": [
        "hobbies = {\"leer\", \"jugar\", \"editar\"}\n",
        "hobbies.add(\"calistenia\")\n",
        "print(hobbies)"
      ],
      "metadata": {
        "colab": {
          "base_uri": "https://localhost:8080/"
        },
        "id": "cRBK1TA75aML",
        "outputId": "b3c5f1a5-8534-4ba0-b11d-3c0124e7efb2"
      },
      "execution_count": 19,
      "outputs": [
        {
          "output_type": "stream",
          "name": "stdout",
          "text": [
            "{'calistenia', 'jugar', 'leer', 'editar'}\n"
          ]
        }
      ]
    },
    {
      "cell_type": "markdown",
      "source": [
        "Manipulación de cadenas"
      ],
      "metadata": {
        "id": "CqHzNGEb7N3O"
      }
    },
    {
      "cell_type": "markdown",
      "source": [
        "Ejercicio práctico 1: Dada una cadena que contiene palabras\n",
        "separadas por comas (ej. \"manzana,banana,cereza\"), conviértela\n",
        "en una lista y luego únela nuevamente en una cadena separada\n",
        "por espacios."
      ],
      "metadata": {
        "id": "rnAdIbMD7URH"
      }
    },
    {
      "cell_type": "code",
      "source": [
        "palabras = ['manzana', 'banana', 'cereza']\n",
        "print (palabras) # lista de palabras\n",
        "frase = ' '.join(palabras)\n",
        "print(frase) # manzana banana cereza"
      ],
      "metadata": {
        "colab": {
          "base_uri": "https://localhost:8080/"
        },
        "id": "8ypfHPhf7Vf1",
        "outputId": "bdbb603c-f24c-4d29-f536-b45e71eb7fee"
      },
      "execution_count": 28,
      "outputs": [
        {
          "output_type": "stream",
          "name": "stdout",
          "text": [
            "['manzaba', 'banana', 'cereza']\n",
            "manzaba banana cereza\n"
          ]
        }
      ]
    },
    {
      "cell_type": "markdown",
      "source": [
        "Ejercicio práctico 2: Convierte el mensaje \"¡Hola Mundo!\" a\n",
        "bytes y luego decodifícalo de nuevo a una cadena."
      ],
      "metadata": {
        "id": "lgTRropl7WP9"
      }
    },
    {
      "cell_type": "code",
      "source": [
        "mensaje = \"¡Hola Mundo!\"\n",
        "bytes_mensaje = mensaje.encode('utf-8')\n",
        "print(bytes_mensaje) # b'\\xc2\\xa1Hola Mundo!'"
      ],
      "metadata": {
        "colab": {
          "base_uri": "https://localhost:8080/"
        },
        "id": "_Vua1SHK7ZaF",
        "outputId": "a5153dac-1508-4267-e060-b7b07e2704ea"
      },
      "execution_count": 32,
      "outputs": [
        {
          "output_type": "stream",
          "name": "stdout",
          "text": [
            "b'\\xc2\\xa1Hola Mundo!'\n"
          ]
        }
      ]
    },
    {
      "cell_type": "code",
      "source": [
        "bytes_mensaje = b'\\xc2\\xa1Hola Mundo!'\n",
        "mensaje = bytes_mensaje.decode('utf-8')\n",
        "print(mensaje) # ¡Hola Mundo!"
      ],
      "metadata": {
        "colab": {
          "base_uri": "https://localhost:8080/"
        },
        "id": "tE7WTuRPAWTz",
        "outputId": "e5574425-5669-4d33-f1e5-8b56f25e0a73"
      },
      "execution_count": 34,
      "outputs": [
        {
          "output_type": "stream",
          "name": "stdout",
          "text": [
            "¡Hola Mundo!\n"
          ]
        }
      ]
    }
  ]
}