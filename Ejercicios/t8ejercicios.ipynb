{
  "nbformat": 4,
  "nbformat_minor": 0,
  "metadata": {
    "colab": {
      "provenance": []
    },
    "kernelspec": {
      "name": "python3",
      "display_name": "Python 3"
    },
    "language_info": {
      "name": "python"
    }
  },
  "cells": [
    {
      "cell_type": "markdown",
      "source": [
        "Ejercicio práctico 1: Crea un programa que escriba una lista\n",
        "de tareas en un archivo y luego lo lea y muestre en pantalla."
      ],
      "metadata": {
        "id": "OxBnzGoiUzC9"
      }
    },
    {
      "cell_type": "code",
      "source": [
        "!cp /content/drive/MyDrive/tareas.txt /content"
      ],
      "metadata": {
        "id": "HfCJubAIWGsK"
      },
      "execution_count": 3,
      "outputs": []
    },
    {
      "cell_type": "code",
      "source": [
        "tareas = '/content/tareas.txt'"
      ],
      "metadata": {
        "id": "OoVXrPWeX5hg"
      },
      "execution_count": 8,
      "outputs": []
    },
    {
      "cell_type": "code",
      "execution_count": 16,
      "metadata": {
        "colab": {
          "base_uri": "https://localhost:8080/"
        },
        "id": "QEBLOXiQUkHp",
        "outputId": "bb55ecec-8db7-459a-f287-ad7662999cb0"
      },
      "outputs": [
        {
          "output_type": "stream",
          "name": "stdout",
          "text": [
            "lavar la ropa \n",
            "sacar la basura\n",
            "barrer la acera\n"
          ]
        }
      ],
      "source": [
        "archivo = open(\"tareas.txt\", \"r\") # Abre el archivo en modo lectura\n",
        "contenido = archivo.read() # Lee todo el contenido\n",
        "print(contenido)"
      ]
    },
    {
      "cell_type": "code",
      "source": [
        "tareas = [\"Comprar leche\", \"Estudiar Python\", \"Hacer ejercicio\"]\n",
        "with open(\"tareas.txt\", \"w\") as archivo:\n",
        "  for tarea in tareas:\n",
        "    archivo.write(tarea + \"\\n\")"
      ],
      "metadata": {
        "id": "INGB-Qzte7_G"
      },
      "execution_count": 17,
      "outputs": []
    },
    {
      "cell_type": "code",
      "source": [
        "with open(\"tareas.txt\", \"r\") as archivo:\n",
        "  lineas = archivo.readlines()\n",
        "  for linea in lineas:\n",
        "    print(linea.strip())"
      ],
      "metadata": {
        "colab": {
          "base_uri": "https://localhost:8080/"
        },
        "id": "u2TEGPu0fEYW",
        "outputId": "84dba628-cf02-4bac-8bb4-4cf01082e794"
      },
      "execution_count": 18,
      "outputs": [
        {
          "output_type": "stream",
          "name": "stdout",
          "text": [
            "Comprar leche\n",
            "Estudiar Python\n",
            "Hacer ejercicio\n"
          ]
        }
      ]
    },
    {
      "cell_type": "markdown",
      "source": [
        "Ejercicio práctico 2: Modifica el programa anterior para que\n",
        "el usuario pueda añadir una nueva tarea al archivo."
      ],
      "metadata": {
        "id": "ZHJHmYaYfYBz"
      }
    },
    {
      "cell_type": "code",
      "source": [
        "nueva_tarea = input(\"Introduce una nueva tarea: \")\n",
        "with open(\"tareas.txt\", \"a\") as archivo:\n",
        "  archivo.write(nueva_tarea + \"\\n\")"
      ],
      "metadata": {
        "colab": {
          "base_uri": "https://localhost:8080/"
        },
        "id": "PPDcxo9XfYov",
        "outputId": "52fb369a-77c5-4fde-e733-d900a2345e28"
      },
      "execution_count": 19,
      "outputs": [
        {
          "name": "stdout",
          "output_type": "stream",
          "text": [
            "Introduce una nueva tarea: Cepillarse los dientes\n"
          ]
        }
      ]
    }
  ]
}