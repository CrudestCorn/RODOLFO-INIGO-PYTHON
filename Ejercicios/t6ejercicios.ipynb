{
  "nbformat": 4,
  "nbformat_minor": 0,
  "metadata": {
    "colab": {
      "provenance": [],
      "toc_visible": true
    },
    "kernelspec": {
      "name": "python3",
      "display_name": "Python 3"
    },
    "language_info": {
      "name": "python"
    }
  },
  "cells": [
    {
      "cell_type": "markdown",
      "source": [
        "Ejercicio práctico 1: Escribe un programa que solicite al\n",
        "usuario dos números y muestre la división de ambos, manejando\n",
        "posibles errores."
      ],
      "metadata": {
        "id": "5pgeQh7w4F2B"
      }
    },
    {
      "cell_type": "code",
      "execution_count": 38,
      "metadata": {
        "colab": {
          "base_uri": "https://localhost:8080/"
        },
        "id": "-KrD-wWK1Zbm",
        "outputId": "a83319f4-45d2-4320-d911-72bb6e6b6624"
      },
      "outputs": [
        {
          "output_type": "stream",
          "name": "stdout",
          "text": [
            "Introduce el primer número: 7\n",
            "Introduce el segundo número: 0\n",
            "No puedes dividir por cero.\n"
          ]
        }
      ],
      "source": [
        "try:\n",
        "  num1 = float(input(\"Introduce el primer número: \"))\n",
        "  num2 = float(input(\"Introduce el segundo número: \"))\n",
        "  resultado = num1 / num2\n",
        "  print(f\"El resultado es: {resultado}\")\n",
        "except ZeroDivisionError:\n",
        "  print(\"No puedes dividir por cero.\")\n",
        "except ValueError:\n",
        "  print(\"Debes ingresar números válidos.\")"
      ]
    },
    {
      "cell_type": "markdown",
      "source": [
        "Ejercicio práctico 2: Escribe un programa que intente abrir un\n",
        "archivo que no existe y maneje el error mostrando un mensaje\n",
        "personalizado al usuario."
      ],
      "metadata": {
        "id": "-xldYB0P5Il7"
      }
    },
    {
      "cell_type": "code",
      "source": [
        "try:\n",
        "  f = open(\"archivo_inexistente.txt\", \"r\")\n",
        "except FileNotFoundError:\n",
        "  print(\"Error: No se pudo abrir el archivo porque no existe.\")"
      ],
      "metadata": {
        "colab": {
          "base_uri": "https://localhost:8080/"
        },
        "id": "sqFq6z1F5KVT",
        "outputId": "4d37f19b-f0a3-409a-ddf8-ec923a921fff"
      },
      "execution_count": 39,
      "outputs": [
        {
          "output_type": "stream",
          "name": "stdout",
          "text": [
            "Error: No se pudo abrir el archivo porque no existe.\n"
          ]
        }
      ]
    }
  ]
}