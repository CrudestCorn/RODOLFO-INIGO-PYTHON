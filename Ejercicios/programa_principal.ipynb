{
  "nbformat": 4,
  "nbformat_minor": 0,
  "metadata": {
    "colab": {
      "provenance": []
    },
    "kernelspec": {
      "name": "python3",
      "display_name": "Python 3"
    },
    "language_info": {
      "name": "python"
    }
  },
  "cells": [
    {
      "cell_type": "code",
      "execution_count": 2,
      "metadata": {
        "id": "bfevdNY-FuP1"
      },
      "outputs": [],
      "source": [
        "!cp /content/drive/MyDrive/Colab\\ Notebooks/calculos.py /content"
      ]
    },
    {
      "cell_type": "code",
      "source": [
        "import calculos"
      ],
      "metadata": {
        "id": "cQf3qiatMYbE"
      },
      "execution_count": 3,
      "outputs": []
    },
    {
      "cell_type": "markdown",
      "source": [
        "Ejercicio práctico 1: Crea un módulo llamado calculos que\n",
        "contenga funciones para calcular el área de diferentes figuras\n",
        "geométricas. Luego, importa ese módulo y utiliza sus\n",
        "funciones."
      ],
      "metadata": {
        "id": "KQ1PR24LMBCd"
      }
    },
    {
      "cell_type": "code",
      "source": [
        "from calculos import area_rectangulo, area_circulo\n",
        "print(area_rectangulo(5, 3)) # Imprimirá 15\n",
        "print(area_circulo(7)) # Imprimirá aproximadamente 153.93804002589985"
      ],
      "metadata": {
        "colab": {
          "base_uri": "https://localhost:8080/"
        },
        "id": "rUsUjlqeMh18",
        "outputId": "1b60bb65-4834-4bed-a1b7-6ee3942526e5"
      },
      "execution_count": 4,
      "outputs": [
        {
          "output_type": "stream",
          "name": "stdout",
          "text": [
            "15\n",
            "153.93804002589985\n"
          ]
        }
      ]
    },
    {
      "cell_type": "markdown",
      "source": [
        "Ejercicio práctico 2: Crea un paquete llamado matematicas con\n",
        "módulos separados para operaciones básicas y avanzadas. Luego,\n",
        "utiliza funciones de ambos módulos."
      ],
      "metadata": {
        "id": "osIlMpoqM3ub"
      }
    },
    {
      "cell_type": "code",
      "source": [
        "!pip install mipaquete"
      ],
      "metadata": {
        "colab": {
          "base_uri": "https://localhost:8080/"
        },
        "id": "1pm3JzOPQe7z",
        "outputId": "2ccaa8a5-fbc2-4fae-c2d9-973fa4dc9071"
      },
      "execution_count": 7,
      "outputs": [
        {
          "output_type": "stream",
          "name": "stdout",
          "text": [
            "Collecting mipaquete\n",
            "  Downloading MiPaquete-1.1.zip (18 kB)\n",
            "  Preparing metadata (setup.py) ... \u001b[?25l\u001b[?25hdone\n",
            "Building wheels for collected packages: mipaquete\n",
            "  Building wheel for mipaquete (setup.py) ... \u001b[?25l\u001b[?25hdone\n",
            "  Created wheel for mipaquete: filename=MiPaquete-1.1-py3-none-any.whl size=19841 sha256=0f6b827701fdb91e02093cd5990895bf5841481a5d8d066b2cc128030814f87a\n",
            "  Stored in directory: /root/.cache/pip/wheels/4e/3b/f3/75920e8c69188851429ece19f931f1e90e5942e53393761408\n",
            "Successfully built mipaquete\n",
            "Installing collected packages: mipaquete\n",
            "Successfully installed mipaquete-1.1\n"
          ]
        }
      ]
    },
    {
      "cell_type": "code",
      "source": [
        "import mipaquete"
      ],
      "metadata": {
        "id": "sWpyezqTM5Wc"
      },
      "execution_count": 11,
      "outputs": []
    },
    {
      "cell_type": "code",
      "source": [
        "!cp /content/drive/MyDrive/Colab\\ Notebooks/mipaquete/modulo1.py /content"
      ],
      "metadata": {
        "id": "UguxabB5R6Or"
      },
      "execution_count": 14,
      "outputs": []
    },
    {
      "cell_type": "code",
      "source": [
        "!cp /content/drive/MyDrive/Colab\\ Notebooks/mipaquete/modulo2.py /content"
      ],
      "metadata": {
        "id": "SjUBjd7MS6mx"
      },
      "execution_count": 15,
      "outputs": []
    },
    {
      "cell_type": "code",
      "source": [
        "import modulo1\n",
        "resultado = modulo1.suma(5, 3)\n",
        "print(resultado) # Imprimirá 8"
      ],
      "metadata": {
        "colab": {
          "base_uri": "https://localhost:8080/"
        },
        "id": "_zqRIFhhTNO3",
        "outputId": "90c9a2e2-9dc7-4208-8a36-1d11de834845"
      },
      "execution_count": 21,
      "outputs": [
        {
          "output_type": "stream",
          "name": "stdout",
          "text": [
            "8\n"
          ]
        }
      ]
    },
    {
      "cell_type": "code",
      "source": [
        "import modulo2\n",
        "resultado = modulo2.multiplicacion(5, 3)\n",
        "print(resultado) # imprimira 15"
      ],
      "metadata": {
        "colab": {
          "base_uri": "https://localhost:8080/"
        },
        "id": "2uKcO9uwT_hm",
        "outputId": "466cb428-3300-4243-a0f7-2f73a365a65d"
      },
      "execution_count": 23,
      "outputs": [
        {
          "output_type": "stream",
          "name": "stdout",
          "text": [
            "15\n"
          ]
        }
      ]
    }
  ]
}